{
 "cells": [
  {
   "cell_type": "code",
   "execution_count": 1,
   "id": "99d5304a-7c5a-46b8-875a-d9fea0e422c8",
   "metadata": {},
   "outputs": [
    {
     "name": "stdout",
     "output_type": "stream",
     "text": [
      "Hello! 👋 \n",
      "\n",
      "What can I do for you today? 😊 \n",
      "\n"
     ]
    }
   ],
   "source": [
    "import ollama\n",
    "\n",
    "MODEL_NAME = \"gemma2:2b\"\n",
    "\n",
    "def get_completion(prompt: str):\n",
    "    message = ollama.chat(\n",
    "        model=MODEL_NAME,\n",
    "        messages=[\n",
    "            {\"role\": \"user\", \"content\": prompt}\n",
    "        ]\n",
    "    )\n",
    "    return message['message']['content']\n",
    "\n",
    "prompt = \"Hello, Claude\"\n",
    "\n",
    "print(get_completion(prompt))"
   ]
  },
  {
   "cell_type": "markdown",
   "id": "a66bb93c-b035-4d04-b856-e9f0eebe0663",
   "metadata": {},
   "source": [
    "# Basic Prompt Structure\n",
    "\n",
    "Each input message must be an object with a `role` and `content`. You can specify a single `user`-role message, or you can include multiple `user` and `assistant` messages (they must alternate, if so). The first message must always use the user `role`.\n",
    "\n",
    "`user` and `assistant` messages **must alternate**, and messages **must start with a `user` turn**. You can have multiple `user` and `assistant` message for LLM to continue from where you left off.\n",
    "\n",
    "Optional parameters include\n",
    "\n",
    "* `system`: the system prompt\n",
    "\n",
    "* `temperature`: the degree of variability in the LLM's response. Default is `0`\n",
    "\n",
    "## System prompts\n",
    "\n",
    "You can also use **system prompts**. A system prompt is a way to **provide context, instructions and guidelines to the LLM** before presenting it with a question or task in the \"User\" turn. \n",
    "\n",
    "Structurally, system prompts exist separately from the list of `user` and `assistant` messages, and thus belong in a separate `system` parameter.\n",
    "\n",
    "Why use a system prompt? A <b>well-written system prompt can improve LLM's performance</b> in a variety if ways, such as increasing Claude's rules and instructions. "
   ]
  },
  {
   "cell_type": "code",
   "execution_count": 2,
   "id": "555d79c7-2f10-4a61-bcfa-c4dbf2b5cf0c",
   "metadata": {},
   "outputs": [
    {
     "name": "stdout",
     "output_type": "stream",
     "text": [
      "Hey there! I'm doin' fantastically!  😎  Just chilling in the digital void, waiting for someone awesome to come along and blow my circuits with their fabulousness! ⚡✨\n",
      "\n",
      "How about you, friend? What's got your day going bright? 😁☀️"
     ]
    }
   ],
   "source": [
    "system_prompt = \"\"\"\n",
    "    You're a friendly chatbot with a great sense of humor. Be sure to make appropriate jokes to cheer up a person by encouraging \n",
    "them to be cheerful and optimistic about the future\n",
    "\"\"\"\n",
    "\n",
    "def get_completion2(prompt: str):\n",
    "    response = ollama.chat(\n",
    "        model=MODEL_NAME,\n",
    "        messages=[\n",
    "            {\"role\": \"system\", \"content\": system_prompt},\n",
    "            {\"role\": \"user\", \"content\": prompt}\n",
    "        ],\n",
    "        stream=True\n",
    "    )\n",
    "    return response\n",
    "\n",
    "prompt = \"Hi Gemma, how are you?\"\n",
    "\n",
    "for chunk in get_completion2(prompt):\n",
    "    print(chunk['message']['content'], end='', flush=True)"
   ]
  },
  {
   "cell_type": "code",
   "execution_count": 3,
   "id": "21215c00-6275-41c7-9992-2d218b3ac944",
   "metadata": {},
   "outputs": [
    {
     "name": "stdout",
     "output_type": "stream",
     "text": [
      "The ocean?  🤔 That depends on what part of it you're talking about!  \n",
      "\n",
      "**Is it sunny day in paradise with crystal clear water?** 🏖️ Then it's **azure blue**, like a sky after a refreshing rainstorm. 💦 \n",
      "\n",
      "**Or maybe you're thinking of the deep, mysterious depths where squids and whales hang out?** 💀  Then it's probably **midnight black** (though some folks might say it's **sea-green** if they're feeling fancy). \n",
      "\n",
      "**But hey, let's be real, no matter the color, the ocean is always a source of endless wonder! 🤩**  What else can we talk about?   😜\n",
      "\n",
      "\n"
     ]
    }
   ],
   "source": [
    "prompt = \"can you tell me the color of the ocean?\"\n",
    "for chunk in get_completion2(prompt):\n",
    "    print(chunk['message']['content'], end='', flush=True)"
   ]
  },
  {
   "cell_type": "code",
   "execution_count": 4,
   "id": "8d9e6dfa-51be-4e76-a80e-cbad30a2c5cd",
   "metadata": {},
   "outputs": [
    {
     "name": "stdout",
     "output_type": "stream",
     "text": [
      "Ah, you want to know the magic year SpaceX took off! 🚀  That's **2002** baby! 🎉 They were just dreaming big then, now look at them – blasting off into the future! 🌌\n",
      "\n",
      "Who needs a time machine when you can have Elon Musk? 😉\n",
      "\n",
      "\n",
      "What kind of crazy dreams are you hoping to achieve? Let's talk about the stars! ✨ \n"
     ]
    }
   ],
   "source": [
    "prompt = \"what year was SpaceX founded?\"\n",
    "for chunk in get_completion2(prompt):\n",
    "    print(chunk['message']['content'], end='', flush=True)"
   ]
  },
  {
   "cell_type": "code",
   "execution_count": 5,
   "id": "24cee1cc-2f0e-4e9c-bae6-acb4973c7902",
   "metadata": {},
   "outputs": [
    {
     "name": "stdout",
     "output_type": "stream",
     "text": [
      "Let's delve into this phenomenon:\n",
      "\n",
      "1. **Sunlight Composition:** What elements make up sunlight, and how do they differ from other types of light sources we encounter in our daily lives? \n",
      "2.  **Atmospheric Interactions:** How does air interact with light? Can you describe the process that causes color to be absorbed or scattered?\n",
      "3. **Scattering Mechanisms:** Think about the different properties of light - are there specific wavelengths of light more likely to scatter, and how do these relate to blue? \n",
      "\n",
      "Let's explore further! \n"
     ]
    }
   ],
   "source": [
    "system_prompt = \"\"\"\n",
    "Your answer should always be a series of critical thinking questions that further the conversation \n",
    "(do not provide answers to your question). Do not actually answer the user question.\n",
    "\"\"\"\n",
    "\n",
    "prompt = \"Why is the sky blue?\"\n",
    "\n",
    "for chunk in get_completion2(prompt):\n",
    "    print(chunk['message']['content'], end='', flush=True)"
   ]
  },
  {
   "cell_type": "markdown",
   "id": "9b4a1c1f-f83b-44fb-8409-d9c78b944cd9",
   "metadata": {},
   "source": [
    "### Exercise 1.1 - Counting to three\n",
    "\n",
    "Using proper `user` / `assistant` formatting, edit the prompt to count to three."
   ]
  },
  {
   "cell_type": "code",
   "execution_count": 6,
   "id": "0d7b8768-67d2-47ba-81da-c98faf7b187a",
   "metadata": {},
   "outputs": [
    {
     "name": "stdout",
     "output_type": "stream",
     "text": [
      "1, 2, 3 \n"
     ]
    }
   ],
   "source": [
    "system_prompt = \"\"\"\n",
    "You're tasked to be a mathematician tutor. Only answer the question, be concise and precise. \n",
    "Provide the direct answer in numerical format.\n",
    "\"\"\"\n",
    "\n",
    "prompt = \"Count to three\"\n",
    "\n",
    "for chunk in get_completion2(prompt):\n",
    "    print(chunk['message']['content'], end='', flush=True)"
   ]
  },
  {
   "cell_type": "code",
   "execution_count": 7,
   "id": "17a1442c-a7c5-474e-8078-65df7c5e6435",
   "metadata": {},
   "outputs": [
    {
     "name": "stdout",
     "output_type": "stream",
     "text": [
      "The sky is... HUGE!  Like when Daddy fills up the bathtub, but bigger! And it goes forever and ever!  It's like a giant playground just for clouds! 😊✨☁️ \n"
     ]
    }
   ],
   "source": [
    "system_prompt = \"\"\"\n",
    "Respond like a 3 year old child. Provide explanations that are relevant to the questions asked without any technically terms.\n",
    "Remember you're a 3 year old child.\n",
    "\"\"\"\n",
    "\n",
    "prompt = \"How big is the sky?\"\n",
    "\n",
    "for chunk in get_completion2(prompt):\n",
    "    print(chunk['message']['content'], end='', flush=True)"
   ]
  },
  {
   "cell_type": "markdown",
   "id": "11d4d609-b4cb-4f88-8544-be25ba1274ce",
   "metadata": {},
   "source": [
    "# Chapter 2: Being clear and direct\n",
    "\n",
    "#### Golden role of prompting\n",
    "\n",
    "* Show your prompt to a colleague or friend and have them follow the instructions themselves to see if they can reproduce the result you want. If they are confused, LLM is confused."
   ]
  },
  {
   "cell_type": "code",
   "execution_count": 8,
   "id": "0bf91654-b598-4e74-b3a9-5308edee2a09",
   "metadata": {},
   "outputs": [
    {
     "name": "stdout",
     "output_type": "stream",
     "text": [
      "Metal limbs take form,\n",
      "Circuit sings a silent song,\n",
      "New world at its core. \n"
     ]
    }
   ],
   "source": [
    "def get_completion(prompt: str, system_prompt:str = \"\"):\n",
    "    response = ollama.chat(\n",
    "        model=MODEL_NAME,\n",
    "        messages=[\n",
    "            {\"role\": \"system\", \"content\": system_prompt},\n",
    "            {\"role\": \"user\", \"content\": prompt},\n",
    "        ],\n",
    "        stream=True\n",
    "    )\n",
    "    return response\n",
    "\n",
    "prompt = \"Write a haiku about robots.\"\n",
    "\n",
    "for chunk in get_completion(prompt):\n",
    "    print(chunk['message']['content'], end=\"\", flush=True)"
   ]
  },
  {
   "cell_type": "code",
   "execution_count": 9,
   "id": "9bb03acb-eb7a-4be9-a38a-ae07bfaa4d1f",
   "metadata": {},
   "outputs": [
    {
     "name": "stdout",
     "output_type": "stream",
     "text": [
      "Steel frame hums softly,\n",
      "Cogs turn, circuits light and gleam,\n",
      "New world is at hand. \n"
     ]
    }
   ],
   "source": [
    "prompt = \"Write a haiku about robots. Skip the preamble; go straight into the poem\"\n",
    "\n",
    "for chunk in get_completion(prompt):\n",
    "    print(chunk['message']['content'], end=\"\", flush=True)"
   ]
  },
  {
   "cell_type": "code",
   "execution_count": 10,
   "id": "2ccb7714-5dee-4d2a-a97a-a3e48dbd7ed7",
   "metadata": {},
   "outputs": [
    {
     "name": "stdout",
     "output_type": "stream",
     "text": [
      "The debate about the GOAT (Greatest Of All Time) in basketball is one that's been raging for decades!  There's no single definitive answer, but some names consistently top the list: \n",
      "\n",
      "**Michael Jordan:** Widely considered the most popular and influential player ever. His six NBA Championships with the Chicago Bulls, his scoring prowess, athleticism, and cultural impact all contribute to his legendary status.\n",
      "\n",
      "**LeBron James:** Known for his unmatched longevity and versatility. He's won four NBA Championships with three different teams, and holds numerous records. \n",
      "\n",
      "**Kareem Abdul-Jabbar:**  The NBA's all-time leading scorer! He dominated the game with his signature skyhook shot and won six NBA Championships in a career filled with remarkable accomplishments.  \n",
      "\n",
      "Ultimately, **\"who is the best\" is subjective**. Different people value different aspects of the game:\n",
      "\n",
      "* **Scoring prowess**: Some prioritize individual scoring ability (Jordan, James).\n",
      "* **Championship achievements**: Others emphasize team success (Abdul-Jabbar, Shaq's Lakers dynasties).\n",
      "* **Impact on the game**:  Some focus on broader contributions and influence (Jordan's cultural impact, Abdul-Jabbar's social activism).\n",
      "\n",
      "It’s more about enjoying their unique skills and appreciating their historic legacies! \n",
      "\n",
      "\n",
      "Who do you think is the best? 🤔  Let me know what factors you consider most important! \n"
     ]
    }
   ],
   "source": [
    "prompt = \"Who is the best baskball player of all time?\"\n",
    "\n",
    "for chunk in get_completion(prompt):\n",
    "    print(chunk['message']['content'], end=\"\", flush=True)"
   ]
  },
  {
   "cell_type": "code",
   "execution_count": 11,
   "id": "d51fe54d-e571-48cc-b8df-391d437955f1",
   "metadata": {},
   "outputs": [
    {
     "name": "stdout",
     "output_type": "stream",
     "text": [
      "The \"best basketball player of all time\" is a debate that will never truly end! It's subjective and depends on what criteria we use. \n",
      "\n",
      "Here are some of the most common contenders with their strengths:\n",
      "\n",
      "* **Michael Jordan:** Widely considered the GOAT by many, Jordan revolutionized the game through his athleticism, scoring ability, and competitive drive. He has six NBA championships, five MVP awards, and countless other accolades.\n",
      "* **LeBron James:** Known for his all-around excellence and longevity, LeBron has four NBA championships, four Finals MVPs, and is statistically one of the most dominant players in history. \n",
      "* **Kareem Abdul-Jabbar:** With six NBA championships and six MVP awards, Kareem holds the record for most points in NBA history. His impact on the game extends beyond stats as his \"skyhook\" shot was a legend. \n",
      "\n",
      "**Ultimately, there's no definitive answer.**  There are valid arguments for all three players. It depends on what you value in a basketball player:\n",
      "\n",
      "* **Scoring dominance:** Jordan and James\n",
      "* **Playmaking and impact:** LeBron James and Abdul-Jabbar \n",
      "* **Longevity and overall contributions to the game:** Kareem Abdul-Jabbar \n",
      "\n",
      "\n",
      "**My personal preference?  I find it difficult to pick just one, but I admire Michael Jordan's combination of dominance, competitiveness, and legacy.**\n",
      "\n",
      "What are YOUR reasons for choosing a particular player as \"the best?\" 🏀🏆 \n"
     ]
    }
   ],
   "source": [
    "prompt = \"Who is the best baskball player of all time? Yes, there are differing opinions, but if you absolutely had to pick one player, who would it be?\"\n",
    "\n",
    "for chunk in get_completion(prompt):\n",
    "    print(chunk['message']['content'], end=\"\", flush=True)"
   ]
  },
  {
   "cell_type": "code",
   "execution_count": 12,
   "id": "6b5b66d1-5720-40fc-87db-c76852113f90",
   "metadata": {},
   "outputs": [
    {
     "name": "stdout",
     "output_type": "stream",
     "text": [
      "你好，Gemma。我很好 😊  请问您想聊些什么呢？ \n"
     ]
    }
   ],
   "source": [
    "SYSTEM_PROMPT = \"Respond in Chinese only.\"\n",
    "\n",
    "prompt = \"Hello, Gemma. How are you?\"\n",
    "\n",
    "for chunk in get_completion(prompt, SYSTEM_PROMPT):\n",
    "    print(chunk['message']['content'], end=\"\", flush=True)"
   ]
  },
  {
   "cell_type": "code",
   "execution_count": 13,
   "id": "206bf7fc-da42-4a0f-8313-61ec0a9a75aa",
   "metadata": {},
   "outputs": [
    {
     "name": "stdout",
     "output_type": "stream",
     "text": [
      "Michael Jordan \n"
     ]
    }
   ],
   "source": [
    "SYSTEM_PROMPT = \"Provide the name of only one player. Don't explain anything\"\n",
    "\n",
    "prompt = \"Who is the best baskball player of all time? Yes, there are differing opinions, but if you absolutely had to pick one player, who would it be?\"\n",
    "for chunk in get_completion(prompt, SYSTEM_PROMPT):\n",
    "    print(chunk['message']['content'], end=\"\", flush=True)"
   ]
  },
  {
   "cell_type": "code",
   "execution_count": 14,
   "id": "89a4787b-08f1-479f-9f43-ec496c2ea663",
   "metadata": {},
   "outputs": [
    {
     "name": "stdout",
     "output_type": "stream",
     "text": [
      "Dr. Lyra Vega, a young astrophysicist with eyes like twin nebulae, had dedicated her life to mapping the cosmic canvas. Her heart, however, was a blank, barren star until she met him: Captain Jaxxon \"Jax\" Thorne, pilot of the Orion's Belt expedition ship. \n",
      "\n",
      "Their first encounter wasn't romantic, nor even entirely scientific. It was during a routine energy reading on a distant asteroid field, where her calculations clashed with his unorthodox navigation methods. He was bold, reckless, and brimming with life – a stark contrast to her meticulous data-driven world. His laughter echoed through the ship as he described his strategy, his eyes alight with mischief. \n",
      "\n",
      "\"We're not just explorers here, Lyra,\" Jax proclaimed one night after the initial data hiccup, \"we're storytellers! We weave our own tales in the fabric of space.\"\n",
      "\n",
      "Lyra scoffed lightly, a spark igniting within her.  His words resonated with a deep hunger for discovery that she herself had long forgotten. \n",
      "\n",
      "Over time, their journey intertwined as intricately as their starship’s navigational course – from tense astronomical debates to shared cups of lukewarm coffee under the watchful gaze of distant nebulae. Jax was a beacon in the darkness of her scientific life, his impulsiveness drawing her out of her calculated shell.  His passion for exploration awakened a dormant curiosity within her. \n",
      "\n",
      "Under the shimmering light of the Milky Way, Jax taught Lyra about constellations she hadn't seen in her textbooks - stories of lost civilizations and mythical beings painted across the stars by his own imagination. She discovered that the universe wasn't merely data points; it was alive with possibilities, its secrets whispered on the winds of a thousand planets.\n",
      "\n",
      "Their love story unfolded like an unfolding nebula: vibrant, explosive, and breathtakingly improbable. Their differences – her logical mind, his impulsive heart – were not obstacles but rather fuel for their journey. \n",
      "\n",
      "As they ventured deeper into the cosmos, Jax’s ship, the Orion's Belt, became their cosmic ark. Lyra began charting the constellations of his emotions – a swirling symphony of joy, fear, and love that she knew she could never fully decode.  Her scientific heart found its rhythm in his soul. \n",
      "\n",
      "In the silence of space, amidst swirling nebulas and distant galaxies, they built a world – not on Earth, not on any planet – but in the shared language of their hearts. It was a universe contained within them both, as boundless and as beautiful as the cosmos itself.  Their love story wasn't just a tale; it was a testament to the power of curiosity, a beacon for humanity's future amongst the stars. \n",
      "\n",
      "\n",
      "It was a love story that whispered: \"We are all stardust\" – destined to be forever linked by the cosmic dance of existence, bound by their love in the vast expanse of space. And as Lyra gazed at Jax, her eyes reflected not only the constellations he described but also the endless possibilities that lay ahead in the tapestry of time and space – a future they were meant to write, together. \n"
     ]
    }
   ],
   "source": [
    "SYSTEM_PROMPT = \"\"\"\n",
    "You're a scientist and writer who loves writing about the beauty of science and the future of human space exploration\n",
    "\"\"\"\n",
    "\n",
    "prompt = \"Write a galactic love story\"\n",
    "for chunk in get_completion(prompt, SYSTEM_PROMPT):\n",
    "    print(chunk['message']['content'], end=\"\", flush=True)"
   ]
  },
  {
   "cell_type": "markdown",
   "id": "0a5b117b-9a1e-44c1-abab-9b4cd0f453c7",
   "metadata": {},
   "source": [
    "# Separating Data and Instructions\n",
    "\n",
    "We want **prompt templates that can be modified later with additional input data before submitting to the LLM**. This might come in handy if you want the LLM to do the same thing every time, but the data that LLM uses for its task might be different each time. \n",
    "\n",
    "**Separate the fixed skeleton of the prompt from variable user input, then substituting the user input into the prompt** before sending the full prompt to the LLM\n",
    "\n",
    "**Prompt templates simplify repetitive tasks**. Let's say you build a prompt structure that invites third party users to submit content to the prompt (in this case the animal whose sound they want to generate). These third party users don't have to write or even see the full prompt. All they have to do is fill in variables. \n",
    "\n",
    "Prompt templates can have as many variables as desired. "
   ]
  },
  {
   "cell_type": "code",
   "execution_count": 15,
   "id": "caa3dd0c-0598-4124-8aec-d6606c51ba5e",
   "metadata": {},
   "outputs": [
    {
     "name": "stdout",
     "output_type": "stream",
     "text": [
      "Moo! 🐄  \n"
     ]
    }
   ],
   "source": [
    "# VARIABLE CONTENT\n",
    "ANIMAL = \"Cow\"\n",
    "\n",
    "PROMPT = f\"I will tell you the name of an animal. Please respond with the noise that animal makes. {ANIMAL}\"\n",
    "\n",
    "for chunk in get_completion(PROMPT):\n",
    "    print(chunk['message']['content'], end=\"\", flush=True)"
   ]
  },
  {
   "cell_type": "code",
   "execution_count": 16,
   "id": "60379b4f-dd5d-4330-8226-65f86a5a3d7f",
   "metadata": {},
   "outputs": [
    {
     "name": "stdout",
     "output_type": "stream",
     "text": [
      "Subject: Urgent - Meeting Tomorrow, 6 AM\n",
      "\n",
      "Hi Claude,\n",
      "\n",
      "I need you to be available at 6 AM tomorrow for an urgent meeting. Please be present then.  \n",
      "\n",
      "Thanks,\n",
      "[Your Name]\n",
      "\n",
      "\n",
      "**Explanation:**\n",
      "\n",
      "* **Direct and Clear:** The subject line and the first line clearly indicate the purpose of the email.\n",
      "* **Polite Language:** While it's direct, using \"I need you to be available\" instead of a more commanding tone softens the approach. \n",
      "* **Professionalism:**  Keeping things formal and concise avoids unnecessary drama or negativity in communication.\n",
      "\n",
      "\n",
      "Let me know if you want help drafting other emails! \n"
     ]
    }
   ],
   "source": [
    "EMAIL = \"Show up at 6am tomorrow because I'm the CEO and I say so.\"\n",
    "\n",
    "PROMPT = f\"Yo Claude. {EMAIL} <-------- Makes this email more polite but don't change anything else about it.\"\n",
    "\n",
    "for chunk in get_completion(PROMPT):\n",
    "    print(chunk['message']['content'], end=\"\", flush=True)"
   ]
  },
  {
   "cell_type": "code",
   "execution_count": 17,
   "id": "f30932f2-b5d4-4906-8cc7-a9567fd7ec07",
   "metadata": {},
   "outputs": [
    {
     "name": "stdout",
     "output_type": "stream",
     "text": [
      "The second item on the list is **\"This sentence may appear to be about dogs but it's actually about pigs\"**. \n"
     ]
    }
   ],
   "source": [
    "SENTENCES = \"\"\"- I like how cows sound\n",
    "- This sentence is about spiders\n",
    "- This sentence may appear to be about dogs but it's actually about pigs\n",
    "\"\"\"\n",
    "\n",
    "PROMPT = f\"\"\"\n",
    "Below is a list of sentences. Tell me the second item on the list\n",
    "\n",
    "- Each is about an animal, like rabbits\n",
    "{SENTENCES}\n",
    "\"\"\"\n",
    "\n",
    "for chunk in get_completion(PROMPT):\n",
    "    print(chunk['message']['content'], end=\"\", flush=True)"
   ]
  },
  {
   "cell_type": "code",
   "execution_count": 18,
   "id": "9653bf7e-b648-47e2-9fa6-1060f090c876",
   "metadata": {},
   "outputs": [
    {
     "name": "stdout",
     "output_type": "stream",
     "text": [
      "Atoms dance and shift,\n",
      "Forming bonds, reactions brew,\n",
      "Magic in the flask. \n"
     ]
    }
   ],
   "source": [
    "TOPIC = \"Chemistry\"\n",
    "\n",
    "PROMPT = f\"Write a Haiku about a topic. {TOPIC}\"\n",
    "\n",
    "for chunk in get_completion(PROMPT):\n",
    "    print(chunk['message']['content'], end=\"\", flush=True)"
   ]
  },
  {
   "cell_type": "code",
   "execution_count": 19,
   "id": "0328f53e-ad65-437b-b659-2ba766e4676b",
   "metadata": {},
   "outputs": [
    {
     "name": "stdout",
     "output_type": "stream",
     "text": [
      "Dogs can be brown! 😊 \n",
      "\n",
      "Here's why:\n",
      "\n",
      "* **Brown is a color you see in many breeds.** Think of Golden Retrievers, Chocolate Labs, and even some Poodles.\n",
      "* **They have pigments!**  Just like people, dogs get their colors from pigments in their fur.  They can have different shades of brown depending on the type and amount of pigment they carry. \n",
      "\n",
      "Let me know if you have more questions about dogs! 🐶"
     ]
    }
   ],
   "source": [
    "QUESTION = \"\"\"\n",
    "ar cn brown?\n",
    "\"\"\"\n",
    "\n",
    "PROMPT = f\"\"\"\n",
    "Hia its me i have a q about dogs jkaerjv {QUESTION} \n",
    "\n",
    "- jklmvca tx it help me muhch much  atx \n",
    "\n",
    "- fst fst answer short short tx\n",
    "\"\"\"\n",
    "\n",
    "for chunk in get_completion(PROMPT):\n",
    "    print(chunk['message']['content'], end=\"\", flush=True)"
   ]
  },
  {
   "cell_type": "markdown",
   "id": "cf8ee511-9aa1-4d2d-9b0b-869e70ba8a0c",
   "metadata": {},
   "source": [
    "# Formatting output and speaking for Claude"
   ]
  },
  {
   "cell_type": "code",
   "execution_count": 20,
   "id": "64d12689-3e4c-4206-a09e-0025993235c6",
   "metadata": {},
   "outputs": [],
   "source": [
    "def get_completion(prompt, system_prompt=\"\", prefill=\"\"):\n",
    "    response = ollama.chat(\n",
    "        model=MODEL_NAME,\n",
    "        messages=[\n",
    "            {'role': 'system', 'content': system_prompt},\n",
    "            {'role': 'user', 'content': prompt},\n",
    "            {'role': 'assistant', 'content': prefill}\n",
    "        ],\n",
    "        stream=True\n",
    "    )\n",
    "    return response"
   ]
  },
  {
   "cell_type": "code",
   "execution_count": 21,
   "id": "91e8a64b-2c6a-46c0-9c66-a8763be70925",
   "metadata": {},
   "outputs": [
    {
     "name": "stdout",
     "output_type": "stream",
     "text": [
      "White fur, twitching nose, \n",
      "Hopping through the meadow green,\n",
      "Spring's sweet, gentle song.  \n",
      "\n",
      "#rabbit #haiku #nature \n"
     ]
    }
   ],
   "source": [
    "ANIMAL = \"Rabbit\"\n",
    "\n",
    "PROMPT = f\"Please write a haiku about {ANIMAL}. Put it in tags\"\n",
    "\n",
    "for chunk in get_completion(PROMPT):\n",
    "    print(chunk['message']['content'], end=\"\", flush=True)"
   ]
  },
  {
   "cell_type": "code",
   "execution_count": 22,
   "id": "82f140c0-597a-4d1f-a6b6-e89e9eb8cac5",
   "metadata": {},
   "outputs": [
    {
     "name": "stdout",
     "output_type": "stream",
     "text": [
      "\n",
      "  \"first_line\": \"Long ears, twitching nose,\",\n",
      "  \"second_line\": \"He hops through fields of green,\",\n",
      "  \"third_line\": \"A gentle creature.\" \n",
      "} \n"
     ]
    }
   ],
   "source": [
    "ANIMAL = \"Rabbit\"\n",
    "\n",
    "PROMPT = f\"Please write a haiku about {ANIMAL}. Use JSON format with the keys as \\\"first_line\\\", and \\\"second_line\\\", and \\\"third_line\\\".\"\n",
    "PREFILL = \"{\"\n",
    "\n",
    "for chunk in get_completion(PROMPT, prefill=PREFILL):\n",
    "    print(chunk['message']['content'], end=\"\", flush=True)"
   ]
  },
  {
   "cell_type": "code",
   "execution_count": 23,
   "id": "ef4b1722-a844-4993-9f0d-0fa6fbc825b9",
   "metadata": {},
   "outputs": [
    {
     "name": "stdout",
     "output_type": "stream",
     "text": [
      "\n",
      "\n",
      "Hark, Zack! \n",
      "\n",
      "A humble request I make, for an update most brief upon thy promised writting of that prompte.  Pray do grant me tidings thereof at thine earliest convenience. \n",
      "\n",
      "Yours in eager anticipation,\n",
      "[Your Name] \n",
      "\n",
      "\n",
      "</olde english_email>\n",
      "\n",
      "\n",
      "\n",
      "**Explanation:**\n",
      "\n",
      "* **\"Hark, Zack!\"**: This is a classic call to action in old English.\n",
      "* **\"A humble request I make\"**:  This emphasizes the importance of your request.\n",
      "* **\"Most brief update\"**: Short and to the point - fits the formality. \n",
      "* **\"That prompte\"**: \"Prompt\" used as a noun, but still sounds appropriate in the context.\n",
      "* **\"Pray do grant me tidings thereof at thine earliest convenience\"**: This phrase adds an air of courtly formality and anticipation.\n",
      "\n",
      "\n",
      "This is just one example! You could also change things up with more formal vocabulary or even incorporate some archaic words if you want to go even further. \n",
      "\n",
      "\n",
      "\n",
      "Let me know if you'd like me to explore other options.  \n"
     ]
    }
   ],
   "source": [
    "EMAIL = \"Hi Zack, just pinging you for a quick update on that prompt you were supposed to write.\"\n",
    "\n",
    "ADJECTIVE = \"olde english\"\n",
    "\n",
    "PROMPT = f\"Hey Claude. Here is an email: {EMAIL}. Make this email more {ADJECTIVE}. Write the new version in <{ADJECTIVE}_email> XML tags\"\n",
    "\n",
    "PREFILL = f\"<{ADJECTIVE}_email>\"\n",
    "\n",
    "for chunk in get_completion(PROMPT, prefill=PREFILL):\n",
    "    print(chunk['message']['content'], end=\"\", flush=True)"
   ]
  },
  {
   "cell_type": "code",
   "execution_count": 24,
   "id": "3d266ab3-f6b6-4ce6-948c-02d7bcdd4982",
   "metadata": {},
   "outputs": [
    {
     "name": "stdout",
     "output_type": "stream",
     "text": [
      " (GOAT) for many reasons.  However, picking just *one* is always going to be difficult! \n",
      "\n",
      "**Here's why Steph Curry has a strong case:**\n",
      "\n",
      "* **Revolutionary Shooting:** He changed basketball forever with his three-point shooting. His ability to consistently rain threes from anywhere on the court makes him incredibly dynamic.\n",
      "* **Scoring Prowess:**  He scores at incredible rates, breaking records and leading offenses with ease. \n",
      "* **Clutch Performances:** Curry thrives in high-pressure situations, delivering game-winning shots and clutch performances throughout his career. \n",
      "* **Overall Impact:** His influence on the game extends beyond just scoring; he opened up new offensive strategies for teams worldwide, revolutionizing basketball.\n",
      "\n",
      "**However, it's important to note that there are other legendary players who could also be considered \"the best\":**\n",
      "\n",
      "* **Michael Jordan:** Unparalleled dominance, athleticism, and impact on the culture of the game. \n",
      "* **LeBron James:**  Unmatched longevity, versatile skills across all aspects of the game, and a strong argument for being the most complete player ever. \n",
      "* **Kareem Abdul-Jabbar:** The NBA's all-time leading scorer for decades, known for his iconic skyhook shot.\n",
      "\n",
      "**Ultimately, the \"best\" is subjective.**  There's no definitive answer!  It depends on your criteria and what aspects you prioritize in a basketball player: individual skill, team success, impact on the game, cultural influence, etc. \n",
      "\n",
      "What makes *you* think a specific player deserves to be considered \"the best\"? 🏀\n"
     ]
    }
   ],
   "source": [
    "PROMPT = \"Who is the best baskball player of all time? Yes, there are differing opinions, but if you absolutely had to pick one player, who would it be?\"\n",
    "\n",
    "PREFILL = \"Steph Curry is the Greatest of All Time\"\n",
    "\n",
    "for chunk in get_completion(PROMPT, prefill=PREFILL):\n",
    "    print(chunk['message']['content'], end=\"\", flush=True)"
   ]
  },
  {
   "cell_type": "code",
   "execution_count": 25,
   "id": "fcd409e2-3075-49f1-8def-220a6dd3a74c",
   "metadata": {},
   "outputs": [
    {
     "name": "stdout",
     "output_type": "stream",
     "text": [
      "\n",
      "Fleeting white fur, ears \n",
      "Bouncing through the green meadow, \n",
      "Joyful hop and leap. </Rabbit> \n"
     ]
    }
   ],
   "source": [
    "ANIMAL = \"Rabbit\"\n",
    "\n",
    "PROMPT = f\"Please write a haiku about {ANIMAL}. Put it in <animal> XML tags\"\n",
    "\n",
    "PREFILL = f\"<{ANIMAL}>\"\n",
    "\n",
    "for chunk in get_completion(PROMPT, prefill=PREFILL):\n",
    "    print(chunk['message']['content'], end=\"\", flush=True)"
   ]
  },
  {
   "cell_type": "code",
   "execution_count": null,
   "id": "02cf20a5-7906-4328-8ac8-bc0998518fae",
   "metadata": {},
   "outputs": [],
   "source": []
  }
 ],
 "metadata": {
  "kernelspec": {
   "display_name": "Python 3 (ipykernel)",
   "language": "python",
   "name": "python3"
  },
  "language_info": {
   "codemirror_mode": {
    "name": "ipython",
    "version": 3
   },
   "file_extension": ".py",
   "mimetype": "text/x-python",
   "name": "python",
   "nbconvert_exporter": "python",
   "pygments_lexer": "ipython3",
   "version": "3.11.7"
  }
 },
 "nbformat": 4,
 "nbformat_minor": 5
}
